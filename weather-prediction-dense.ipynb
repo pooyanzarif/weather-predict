{
 "cells": [
  {
   "cell_type": "markdown",
   "id": "98ec811f",
   "metadata": {},
   "source": [
    "## This program predicts weather tempreture based on jena_climate_2009_2016 dataset"
   ]
  },
  {
   "cell_type": "markdown",
   "id": "fd367c0e",
   "metadata": {},
   "source": [
    "## The dataset contains 14 different features but this program only considers the tempreture for prediction."
   ]
  },
  {
   "cell_type": "markdown",
   "id": "5f0d3d26",
   "metadata": {},
   "source": [
    "### 0. download  jena dataset  from https://www.kaggle.com/datasets/stytch16/jena-climate-2009-2016"
   ]
  },
  {
   "cell_type": "markdown",
   "id": "4c2311e9",
   "metadata": {},
   "source": [
    "### 0. import relevant libraries\n"
   ]
  },
  {
   "cell_type": "code",
   "execution_count": null,
   "id": "806a1fb5",
   "metadata": {
    "scrolled": true
   },
   "outputs": [],
   "source": [
    "import os\n",
    "import numpy as np\n",
    "import tensorflow as tf\n",
    "from tensorflow import keras\n",
    "from tensorflow.keras import layers,callbacks\n",
    "import matplotlib.pyplot as plt\n",
    "import pandas as pd"
   ]
  },
  {
   "cell_type": "markdown",
   "id": "0a66ccb2",
   "metadata": {},
   "source": [
    "### 0. This function plot histroy of neural network model to analyze the result."
   ]
  },
  {
   "cell_type": "code",
   "execution_count": null,
   "id": "fe896310",
   "metadata": {},
   "outputs": [],
   "source": [
    "def plot(data):\n",
    "    loss=data['mae']\n",
    "    val=data['val_mae']\n",
    "    epochs=range(1,len(loss)+1)\n",
    "    plt.figure()\n",
    "    plt.yscale='log'\n",
    "    plt.plot(epochs,loss,\"bo\",label=\"Training\")\n",
    "    plt.plot(epochs,val,\"b\", label=\"Validation\")\n",
    "    plt.title(\"Training and validation\")\n",
    "    plt.legend()\n",
    "    plt.show()"
   ]
  },
  {
   "cell_type": "markdown",
   "id": "6785fdab",
   "metadata": {},
   "source": [
    "---\n",
    "## 1. Preparing Data"
   ]
  },
  {
   "cell_type": "markdown",
   "id": "30ad8f3a",
   "metadata": {},
   "source": [
    "### 1.1 load dataset"
   ]
  },
  {
   "cell_type": "code",
   "execution_count": null,
   "id": "5e4db286",
   "metadata": {
    "scrolled": true
   },
   "outputs": [],
   "source": [
    "fname = os.path.join(\"jena_climate_2009_2016.csv\")\n",
    "df = pd.read_csv(fname)"
   ]
  },
  {
   "cell_type": "markdown",
   "id": "0ee82f4f",
   "metadata": {},
   "source": [
    "### 1.2 remove all feature but temprture"
   ]
  },
  {
   "cell_type": "code",
   "execution_count": null,
   "id": "0cad3f29",
   "metadata": {},
   "outputs": [],
   "source": [
    "df= df['T (degC)']"
   ]
  },
  {
   "cell_type": "markdown",
   "id": "a76514cc",
   "metadata": {},
   "source": [
    "### 1.3 divide dataset to 3 parts (train / Validation / Test) and normalize them"
   ]
  },
  {
   "cell_type": "code",
   "execution_count": null,
   "id": "ab76491d",
   "metadata": {},
   "outputs": [],
   "source": [
    "l=len(df)\n",
    "num_train_sample= int(l*0.5)\n",
    "num_val_sample= int(l*0.25)"
   ]
  },
  {
   "cell_type": "markdown",
   "id": "df4219f1",
   "metadata": {},
   "source": [
    "#### 1.4.1 normalizing data according to train data"
   ]
  },
  {
   "cell_type": "code",
   "execution_count": null,
   "id": "f8e674b3",
   "metadata": {},
   "outputs": [],
   "source": [
    "mean=df[:num_train_sample].mean(axis=0)\n",
    "std = df[:num_train_sample].std(axis=0)\n",
    "df-=mean\n",
    "df/=std"
   ]
  },
  {
   "cell_type": "markdown",
   "id": "c808a533",
   "metadata": {},
   "source": [
    "#### 1.4.2 divide dataset to 3 parts (train / Validation / Test)"
   ]
  },
  {
   "cell_type": "code",
   "execution_count": null,
   "id": "aca31733",
   "metadata": {
    "scrolled": false
   },
   "outputs": [],
   "source": [
    "sample_rate= 6\n",
    "sequence_length = 120\n",
    "delay = sample_rate*(sequence_length+24-1)\n",
    "batchsize = 255\n",
    "\n",
    "train_dataset = keras.utils.timeseries_dataset_from_array(\n",
    "    df[:-delay][:],\n",
    "    targets=df[delay:],\n",
    "    sampling_rate=sample_rate,\n",
    "    sequence_length = sequence_length,\n",
    "    shuffle=True,\n",
    "    batch_size=batchsize,\n",
    "    start_index=0,\n",
    "    end_index=num_train_sample\n",
    ")\n",
    "\n",
    "val_dataset = keras.utils.timeseries_dataset_from_array(\n",
    "    df[:-delay][:],\n",
    "    targets=df[delay:],\n",
    "    sampling_rate=sample_rate,\n",
    "    sequence_length = sequence_length,\n",
    "    shuffle=True,\n",
    "    batch_size=batchsize,\n",
    "    start_index=num_train_sample,\n",
    "    end_index=num_train_sample+num_val_sample\n",
    ")\n",
    "test_dataset = keras.utils.timeseries_dataset_from_array(\n",
    "    df[:-delay],\n",
    "    targets=df[delay:],\n",
    "    sampling_rate=sample_rate,\n",
    "    sequence_length = sequence_length,\n",
    "    shuffle=True,\n",
    "    batch_size=batchsize,\n",
    "    start_index=num_train_sample+num_val_sample\n",
    ")\n"
   ]
  },
  {
   "cell_type": "markdown",
   "id": "270c253b",
   "metadata": {},
   "source": [
    "### 1.5 Calculate the base error"
   ]
  },
  {
   "cell_type": "code",
   "execution_count": null,
   "id": "b28aeee5",
   "metadata": {
    "scrolled": false
   },
   "outputs": [],
   "source": [
    "error=0\n",
    "num_sample=0\n",
    "for samples,target in train_dataset:\n",
    "    error+=np.sum(np.abs(samples[:,-1]-target))\n",
    "    num_sample+=samples.shape[0]\n",
    "\n",
    "base_error = error/num_sample\n",
    "print(base_error)"
   ]
  },
  {
   "cell_type": "markdown",
   "id": "bdd60504",
   "metadata": {},
   "source": [
    "## Base Error(normalaized data): 0.307"
   ]
  },
  {
   "cell_type": "markdown",
   "id": "8ef1fa52",
   "metadata": {},
   "source": [
    "---\n",
    "## 2. Train"
   ]
  },
  {
   "cell_type": "markdown",
   "id": "9d150507",
   "metadata": {},
   "source": [
    "### 2.1 create model"
   ]
  },
  {
   "cell_type": "code",
   "execution_count": null,
   "id": "0a0455df",
   "metadata": {},
   "outputs": [],
   "source": [
    "def create_dense(sequence_length):\n",
    "    inputs = keras.Input(shape=(sequence_length))\n",
    "    x = layers.Flatten()(inputs)\n",
    "    x = layers.Dense(16, activation='relu')(x)\n",
    "    outputs = layers.Dense(1)(x)\n",
    "    model = keras.Model(inputs=inputs,outputs=outputs)\n",
    "    model.compile(optimizer='rmsprop',loss='mse',metrics=['mae'])\n",
    "    return model"
   ]
  },
  {
   "cell_type": "markdown",
   "id": "b69a8283",
   "metadata": {},
   "source": [
    "### 2.2 define callback"
   ]
  },
  {
   "cell_type": "code",
   "execution_count": null,
   "id": "a95f7d38",
   "metadata": {},
   "outputs": [],
   "source": [
    "callbacks=[\n",
    "    keras.callbacks.ModelCheckpoint(\"jena-single-Dense-16\",save_best_only=True)\n",
    "]"
   ]
  },
  {
   "cell_type": "markdown",
   "id": "42a95528",
   "metadata": {},
   "source": [
    "### 2.3 train model based on train data"
   ]
  },
  {
   "cell_type": "code",
   "execution_count": null,
   "id": "28ecd8e4",
   "metadata": {
    "scrolled": true
   },
   "outputs": [],
   "source": [
    "model = create_dense(sequence_length)\n",
    "\n",
    "\n",
    "h=model.fit(train_dataset,\n",
    "            epochs=10,\n",
    "            validation_data=val_dataset,\n",
    "            callbacks=callbacks)"
   ]
  },
  {
   "cell_type": "markdown",
   "id": "7f7a1f3f",
   "metadata": {},
   "source": [
    "### 2.3 analyze the model history "
   ]
  },
  {
   "cell_type": "code",
   "execution_count": null,
   "id": "2d1e6a33",
   "metadata": {},
   "outputs": [],
   "source": [
    "plot(h.history)"
   ]
  },
  {
   "cell_type": "markdown",
   "id": "bc3e3900",
   "metadata": {},
   "source": [
    "---\n",
    "## 3. Test"
   ]
  },
  {
   "cell_type": "markdown",
   "id": "f5117974",
   "metadata": {},
   "source": [
    "### 3.1 Load best model"
   ]
  },
  {
   "cell_type": "code",
   "execution_count": null,
   "id": "1355d49f",
   "metadata": {},
   "outputs": [],
   "source": [
    "model.load_weights(\"jena-single-Dense-16\")"
   ]
  },
  {
   "cell_type": "markdown",
   "id": "706fc47f",
   "metadata": {},
   "source": [
    "### 3.2 Evaluate"
   ]
  },
  {
   "cell_type": "code",
   "execution_count": null,
   "id": "e66e29cc",
   "metadata": {},
   "outputs": [],
   "source": [
    "eval_result=model.evaluate(test_dataset)"
   ]
  },
  {
   "cell_type": "markdown",
   "id": "7861934a",
   "metadata": {},
   "source": [
    "### 3.3 calculate error "
   ]
  },
  {
   "cell_type": "code",
   "execution_count": null,
   "id": "b5c339a3",
   "metadata": {},
   "outputs": [],
   "source": [
    "eval_result"
   ]
  }
 ],
 "metadata": {
  "kernelspec": {
   "display_name": "Python 3 (ipykernel)",
   "language": "python",
   "name": "python3"
  },
  "language_info": {
   "codemirror_mode": {
    "name": "ipython",
    "version": 3
   },
   "file_extension": ".py",
   "mimetype": "text/x-python",
   "name": "python",
   "nbconvert_exporter": "python",
   "pygments_lexer": "ipython3",
   "version": "3.10.7"
  }
 },
 "nbformat": 4,
 "nbformat_minor": 5
}
